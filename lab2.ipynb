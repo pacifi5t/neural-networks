{
 "cells": [
  {
   "cell_type": "code",
   "execution_count": null,
   "metadata": {},
   "outputs": [],
   "source": [
    "import numpy as np\n",
    "import pandas as pd\n",
    "import os\n",
    "import subprocess\n",
    "import matplotlib.pyplot as plt\n",
    "import tensorflow as tf\n",
    "\n",
    "from tensorflow.keras import layers, models\n",
    "from keras.preprocessing.image import ImageDataGenerator\n",
    "from sklearn.model_selection import train_test_split\n",
    "from pathlib import Path\n"
   ]
  },
  {
   "cell_type": "code",
   "execution_count": null,
   "metadata": {},
   "outputs": [],
   "source": [
    "dataset_path = Path(r'./data/lab2')\n",
    "\n",
    "file_path = list(dataset_path.glob(r'**/*.png'))\n",
    "\n",
    "# create labels from the folder name\n",
    "labels = list(map(lambda x: os.path.split(os.path.split(x)[0])[1], file_path))\n"
   ]
  },
  {
   "cell_type": "code",
   "execution_count": null,
   "metadata": {},
   "outputs": [],
   "source": [
    "file_path = pd.Series(file_path).astype(str)\n",
    "labels = pd.Series(labels)\n",
    "\n",
    "df = pd.concat([file_path, labels], axis=1)\n",
    "\n",
    "df.columns = ['image', 'label']\n",
    "\n",
    "df.head()\n"
   ]
  },
  {
   "cell_type": "code",
   "execution_count": null,
   "metadata": {},
   "outputs": [],
   "source": [
    "fig, axes = plt.subplots(nrows=3, ncols=5, figsize=(\n",
    "    15, 10), subplot_kw={'xticks': [], 'yticks': []})\n",
    "for i, ax in enumerate(axes.flat):\n",
    "    ax.imshow(plt.imread(df.image[i]))\n",
    "    ax.set_title(df.label[i])\n",
    "\n",
    "plt.show()\n"
   ]
  },
  {
   "cell_type": "code",
   "execution_count": null,
   "metadata": {},
   "outputs": [],
   "source": [
    "df.label.value_counts()\n"
   ]
  },
  {
   "cell_type": "code",
   "execution_count": null,
   "metadata": {},
   "outputs": [],
   "source": [
    "df = df[df['label'].apply(lambda x: x[-2:] != 'GT')].reset_index(drop=True)\n",
    "df.label.value_counts()\n"
   ]
  },
  {
   "cell_type": "code",
   "execution_count": null,
   "metadata": {},
   "outputs": [],
   "source": [
    "from sklearn.model_selection import train_test_split\n",
    "\n",
    "x_train, x_test = train_test_split(df, test_size=0.2, random_state=30)\n",
    "x_train, x_val = train_test_split(x_train, test_size=0.3, random_state=30)\n",
    "\n",
    "print(\"Shape of training data\", x_train.shape)\n",
    "print(\"Shape of test_ds data\", x_test.shape)\n",
    "print(\"Shape of validation data\", x_val.shape)\n"
   ]
  },
  {
   "cell_type": "code",
   "execution_count": null,
   "metadata": {},
   "outputs": [],
   "source": [
    "image_data_generator = ImageDataGenerator(rescale=1./255,\n",
    "                                          shear_range=0.2,\n",
    "                                          zoom_range=0.2,\n",
    "                                          fill_mode='nearest')\n",
    "\n",
    "train_ds = image_data_generator.flow_from_dataframe(dataframe=x_train, x_col='image', y_col='label', target_size=(\n",
    "    200, 200), color_mode='rgb', class_mode='categorical', shuffle=True)\n",
    "test_ds = image_data_generator.flow_from_dataframe(dataframe=x_test, x_col='image', y_col='label', target_size=(\n",
    "    200, 200), color_mode='rgb', class_mode='categorical', shuffle=True)\n",
    "val_ds = image_data_generator.flow_from_dataframe(dataframe=x_val, x_col='image', y_col='label', target_size=(\n",
    "    200, 200), color_mode='rgb', class_mode='categorical', shuffle=True)\n"
   ]
  },
  {
   "cell_type": "code",
   "execution_count": null,
   "metadata": {},
   "outputs": [],
   "source": [
    "def plotHistory(history):\n",
    "    acc = history.history['acc']\n",
    "    val_acc = history.history['val_acc']\n",
    "    loss = history.history['loss']\n",
    "    val_loss = history.history['val_loss']\n",
    "\n",
    "    epochs = range(len(acc))\n",
    "    plt.plot(epochs, acc, label=\"Training accuracy\")\n",
    "    plt.plot(epochs, val_acc, label=\"Validation accuracy\")\n",
    "    plt.legend()\n",
    "    plt.title('Training and validation accuracy')\n",
    "    plt.figure()\n",
    "\n",
    "    plt.plot(epochs, loss, label=\"Training loss\")\n",
    "    plt.plot(epochs, val_loss, label=\"Validation loss\")\n",
    "    plt.legend()\n",
    "    plt.title('Training and validation loss')"
   ]
  },
  {
   "cell_type": "code",
   "execution_count": null,
   "metadata": {},
   "outputs": [],
   "source": [
    "checkpoint_path = './checkpoints/lab2/'\n",
    "\n",
    "def get_cp_callback(path):\n",
    "    return tf.keras.callbacks.ModelCheckpoint(filepath=path,\n",
    "                                              save_weights_only=True,\n",
    "                                              save_freq=\"epoch\",\n",
    "                                              verbose=1)\n",
    "\n",
    "def purge_checkpoints():\n",
    "    if os.path.isdir(checkpoint_path):\n",
    "        subprocess.run(['rm', '-rf', checkpoint_path])\n",
    "        subprocess.run(['mkdir', checkpoint_path])"
   ]
  },
  {
   "cell_type": "code",
   "execution_count": null,
   "metadata": {},
   "outputs": [],
   "source": [
    "input_shape = (200, 200, 3)\n",
    "\n",
    "model = models.Sequential([\n",
    "    layers.Conv2D(64, (3,3), activation='relu', input_shape=input_shape ),\n",
    "    layers.MaxPool2D(pool_size = (2,2)),\n",
    "    layers.Conv2D(64, (3,3), activation='relu'),\n",
    "    layers.MaxPool2D(pool_size = (2,2)),\n",
    "    layers.Conv2D(32, (3,3), activation='relu'),\n",
    "    layers.MaxPool2D(pool_size = (2,2)),\n",
    "    layers.Conv2D(32, (3,3), activation='relu'),\n",
    "    layers.MaxPool2D(pool_size = (2,2)),\n",
    "    layers.Flatten(),\n",
    "    layers.Dense(512, activation='relu'),\n",
    "    layers.Dense(128, activation='relu'),\n",
    "    layers.Dropout(0.2),\n",
    "    layers.Dense(128, activation='relu'),\n",
    "    layers.Dropout(0.2),\n",
    "    layers.Dense(9, activation='softmax')\n",
    "])\n",
    "\n",
    "# model.summary()"
   ]
  },
  {
   "cell_type": "code",
   "execution_count": null,
   "metadata": {},
   "outputs": [],
   "source": [
    "model.compile(optimizer=\"adam\",\n",
    "              loss='categorical_crossentropy',\n",
    "              metrics=[\"acc\"])\n",
    "\n",
    "history = model.fit(train_ds,\n",
    "                    validation_data=val_ds,\n",
    "                    epochs=20)\n",
    "\n",
    "plotHistory(history)\n"
   ]
  },
  {
   "cell_type": "code",
   "execution_count": null,
   "metadata": {},
   "outputs": [],
   "source": []
  }
 ],
 "metadata": {
  "interpreter": {
   "hash": "36fb388a3df9b6b0152b2dc3041366d6a510fd93d1437e9de76ac36c774f0a35"
  },
  "kernelspec": {
   "display_name": "Python 3.9.7 64-bit ('.venv': venv)",
   "language": "python",
   "name": "python3"
  },
  "language_info": {
   "codemirror_mode": {
    "name": "ipython",
    "version": 3
   },
   "file_extension": ".py",
   "mimetype": "text/x-python",
   "name": "python",
   "nbconvert_exporter": "python",
   "pygments_lexer": "ipython3",
   "version": "3.9.9"
  },
  "orig_nbformat": 4
 },
 "nbformat": 4,
 "nbformat_minor": 2
}
