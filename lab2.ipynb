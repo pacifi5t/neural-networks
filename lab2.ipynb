{
 "cells": [
  {
   "cell_type": "code",
   "execution_count": null,
   "metadata": {},
   "outputs": [],
   "source": [
    "import pandas as pd\n",
    "import os\n",
    "import subprocess\n",
    "import matplotlib.pyplot as plt\n",
    "import tensorflow as tf\n",
    "\n",
    "from tensorflow.keras import layers, models, applications\n",
    "from keras.preprocessing.image import ImageDataGenerator\n",
    "from sklearn.model_selection import train_test_split\n",
    "from pathlib import Path\n"
   ]
  },
  {
   "cell_type": "markdown",
   "metadata": {},
   "source": [
    "# Helpers\n"
   ]
  },
  {
   "cell_type": "code",
   "execution_count": null,
   "metadata": {},
   "outputs": [],
   "source": [
    "def plotHistory(history):\n",
    "    acc = history.history['acc']\n",
    "    val_acc = history.history['val_acc']\n",
    "    loss = history.history['loss']\n",
    "    val_loss = history.history['val_loss']\n",
    "\n",
    "    epochs = range(len(acc))\n",
    "    plt.plot(epochs, acc, label=\"Training accuracy\")\n",
    "    plt.plot(epochs, val_acc, label=\"Validation accuracy\")\n",
    "    plt.legend()\n",
    "    plt.title('Training and validation accuracy')\n",
    "    plt.figure()\n",
    "\n",
    "    plt.plot(epochs, loss, label=\"Training loss\")\n",
    "    plt.plot(epochs, val_loss, label=\"Validation loss\")\n",
    "    plt.legend()\n",
    "    plt.title('Training and validation loss')\n"
   ]
  },
  {
   "cell_type": "code",
   "execution_count": null,
   "metadata": {},
   "outputs": [],
   "source": [
    "checkpoint_path = './checkpoints/lab2/'\n",
    "\n",
    "\n",
    "def get_cp_callback(path):\n",
    "    return tf.keras.callbacks.ModelCheckpoint(filepath=path,\n",
    "                                              save_weights_only=True,\n",
    "                                              save_freq=\"epoch\",\n",
    "                                              verbose=1)\n",
    "\n",
    "\n",
    "def purge_checkpoints():\n",
    "    if os.path.isdir(checkpoint_path):\n",
    "        subprocess.run(['rm', '-rf', checkpoint_path])\n",
    "        subprocess.run(['mkdir', checkpoint_path])\n"
   ]
  },
  {
   "cell_type": "markdown",
   "metadata": {},
   "source": [
    "# Data processing\n"
   ]
  },
  {
   "cell_type": "code",
   "execution_count": null,
   "metadata": {},
   "outputs": [],
   "source": [
    "dataset_path = Path(r'./data/lab2')\n",
    "\n",
    "file_path = list(dataset_path.glob(r'**/*.png'))\n",
    "\n",
    "# create labels from the folder name\n",
    "labels = list(map(lambda x: os.path.split(os.path.split(x)[0])[1], file_path))\n"
   ]
  },
  {
   "cell_type": "code",
   "execution_count": null,
   "metadata": {},
   "outputs": [],
   "source": [
    "file_path = pd.Series(file_path).astype(str)\n",
    "labels = pd.Series(labels)\n",
    "\n",
    "df = pd.concat([file_path, labels], axis=1)\n",
    "\n",
    "df.columns = ['image', 'label']\n",
    "\n",
    "df.head()\n"
   ]
  },
  {
   "cell_type": "code",
   "execution_count": null,
   "metadata": {},
   "outputs": [],
   "source": [
    "fig, axes = plt.subplots(nrows=3, ncols=5, figsize=(\n",
    "    15, 10), subplot_kw={'xticks': [], 'yticks': []})\n",
    "for i, ax in enumerate(axes.flat):\n",
    "    ax.imshow(plt.imread(df.image[i]))\n",
    "    ax.set_title(df.label[i])\n",
    "\n",
    "plt.show()\n"
   ]
  },
  {
   "cell_type": "code",
   "execution_count": null,
   "metadata": {},
   "outputs": [],
   "source": [
    "df = df[df['label'].apply(lambda x: x[-2:] != 'GT')].reset_index(drop=True)\n",
    "df.label.value_counts()"
   ]
  },
  {
   "cell_type": "code",
   "execution_count": null,
   "metadata": {},
   "outputs": [],
   "source": [
    "from sklearn.model_selection import train_test_split\n",
    "\n",
    "x_train, x_test = train_test_split(df, test_size=0.2, random_state=30)\n",
    "x_train, x_val = train_test_split(x_train, test_size=0.3, random_state=30)\n",
    "\n",
    "print(\"Shape of training data\", x_train.shape)\n",
    "print(\"Shape of test_ds data\", x_test.shape)\n",
    "print(\"Shape of validation data\", x_val.shape)\n"
   ]
  },
  {
   "cell_type": "markdown",
   "metadata": {},
   "source": [
    "# Initial model"
   ]
  },
  {
   "cell_type": "code",
   "execution_count": null,
   "metadata": {},
   "outputs": [],
   "source": [
    "image_data_generator = ImageDataGenerator()\n",
    "\n",
    "train_ds = image_data_generator.flow_from_dataframe(dataframe=x_train,\n",
    "                                                    x_col='image',\n",
    "                                                    y_col='label',\n",
    "                                                    target_size=(200, 200),\n",
    "                                                    color_mode='rgb',\n",
    "                                                    class_mode='categorical')\n",
    "\n",
    "test_ds = image_data_generator.flow_from_dataframe(dataframe=x_test,\n",
    "                                                   x_col='image',\n",
    "                                                   y_col='label',\n",
    "                                                   target_size=(200, 200),\n",
    "                                                   color_mode='rgb',\n",
    "                                                   class_mode='categorical')\n",
    "\n",
    "val_ds = image_data_generator.flow_from_dataframe(dataframe=x_val,\n",
    "                                                  x_col='image',\n",
    "                                                  y_col='label',\n",
    "                                                  target_size=(200, 200),\n",
    "                                                  color_mode='rgb',\n",
    "                                                  class_mode='categorical')\n"
   ]
  },
  {
   "cell_type": "code",
   "execution_count": null,
   "metadata": {},
   "outputs": [],
   "source": [
    "input_shape = (200, 200, 3)\n",
    "checkpoint_path = \"./checkpoints/lab2/init/\"\n",
    "purge_checkpoints()\n",
    "\n",
    "model = models.Sequential([\n",
    "    layers.Conv2D(64, (3, 3), activation='relu', input_shape=input_shape),\n",
    "    layers.MaxPool2D(pool_size=(2, 2)),\n",
    "    layers.Conv2D(32, (3, 3), activation='relu'),\n",
    "    layers.MaxPool2D(pool_size=(2, 2)),\n",
    "    layers.Flatten(),\n",
    "    layers.Dense(256, activation='relu'),\n",
    "    layers.Dropout(0.2),\n",
    "    layers.Dense(9, activation='softmax')\n",
    "])\n"
   ]
  },
  {
   "cell_type": "code",
   "execution_count": null,
   "metadata": {},
   "outputs": [],
   "source": [
    "model.compile(optimizer=\"adam\",\n",
    "              loss='categorical_crossentropy',\n",
    "              metrics=[\"acc\"])\n",
    "\n",
    "history = model.fit(train_ds,\n",
    "                    validation_data=val_ds,\n",
    "                    callbacks=[get_cp_callback(checkpoint_path)],\n",
    "                    epochs=10,\n",
    "                    use_multiprocessing=True,\n",
    "                    workers=4)\n",
    "\n",
    "plotHistory(history)\n",
    "model.save('./models/lab2/init/')\n"
   ]
  },
  {
   "cell_type": "markdown",
   "metadata": {},
   "source": [
    "# Augmentation"
   ]
  },
  {
   "cell_type": "code",
   "execution_count": null,
   "metadata": {},
   "outputs": [],
   "source": [
    "batch_size = 64\n",
    "\n",
    "image_data_generator = ImageDataGenerator(rescale=1./255,\n",
    "                                          rotation_range=40,\n",
    "                                          width_shift_range=0.2,\n",
    "                                          height_shift_range=0.2,\n",
    "                                          shear_range=0.2,\n",
    "                                          zoom_range=0.2,\n",
    "                                          horizontal_flip=True,\n",
    "                                          fill_mode='nearest')\n",
    "\n",
    "train_ds = image_data_generator.flow_from_dataframe(dataframe=x_train,\n",
    "                                                 x_col='image',\n",
    "                                                 y_col='label',\n",
    "                                                 target_size=(200, 200),\n",
    "                                                 color_mode='rgb',\n",
    "                                                 class_mode='categorical',\n",
    "                                                 batch_size=batch_size)\n",
    "\n",
    "test_ds = image_data_generator.flow_from_dataframe(dataframe=x_test,\n",
    "                                                x_col='image',\n",
    "                                                y_col='label',\n",
    "                                                target_size=(200, 200),\n",
    "                                                color_mode='rgb',\n",
    "                                                class_mode='categorical',\n",
    "                                                batch_size=batch_size)\n",
    "\n",
    "val_ds = image_data_generator.flow_from_dataframe(dataframe=x_val,\n",
    "                                               x_col='image',\n",
    "                                               y_col='label',\n",
    "                                               target_size=(200, 200),\n",
    "                                               color_mode='rgb',\n",
    "                                               class_mode='categorical',\n",
    "                                               batch_size=batch_size)\n"
   ]
  },
  {
   "cell_type": "code",
   "execution_count": null,
   "metadata": {},
   "outputs": [],
   "source": [
    "input_shape = (200, 200, 3)\n",
    "checkpoint_path = \"./checkpoints/lab2/augm/\"\n",
    "purge_checkpoints()\n",
    "\n",
    "model = models.Sequential([\n",
    "    layers.Conv2D(64, (3, 3), activation='relu', input_shape=input_shape),\n",
    "    layers.MaxPool2D(pool_size=(2, 2)),\n",
    "    layers.Conv2D(32, (3, 3), activation='relu'),\n",
    "    layers.MaxPool2D(pool_size=(2, 2)),\n",
    "    layers.Flatten(),\n",
    "    layers.Dense(256, activation='relu'),\n",
    "    layers.Dropout(0.2),\n",
    "    layers.Dense(9, activation='softmax')\n",
    "])\n",
    "\n",
    "# model.summary()\n"
   ]
  },
  {
   "cell_type": "code",
   "execution_count": null,
   "metadata": {},
   "outputs": [],
   "source": [
    "model.compile(optimizer=\"adam\",\n",
    "              loss='categorical_crossentropy',\n",
    "              metrics=[\"acc\"])\n",
    "\n",
    "history = model.fit(train_ds,\n",
    "                    validation_data=val_ds,\n",
    "                    callbacks=[get_cp_callback(checkpoint_path)],\n",
    "                    epochs=10,\n",
    "                    use_multiprocessing=True,\n",
    "                    workers=4)\n",
    "\n",
    "plotHistory(history)\n",
    "model.save('./models/lab2/augm/')"
   ]
  },
  {
   "cell_type": "markdown",
   "metadata": {},
   "source": [
    "# 100x100 Image size"
   ]
  },
  {
   "cell_type": "code",
   "execution_count": null,
   "metadata": {},
   "outputs": [],
   "source": [
    "batch_size = 64\n",
    "\n",
    "image_data_generator = ImageDataGenerator(rescale=1./255,\n",
    "                                          rotation_range=40,\n",
    "                                          width_shift_range=0.2,\n",
    "                                          height_shift_range=0.2,\n",
    "                                          shear_range=0.2,\n",
    "                                          zoom_range=0.2,\n",
    "                                          horizontal_flip=True,\n",
    "                                          fill_mode='nearest')\n",
    "\n",
    "train_ds = image_data_generator.flow_from_dataframe(dataframe=x_train,\n",
    "                                                 x_col='image',\n",
    "                                                 y_col='label',\n",
    "                                                 target_size=(100, 100),\n",
    "                                                 color_mode='rgb',\n",
    "                                                 class_mode='categorical',\n",
    "                                                 batch_size=batch_size)\n",
    "\n",
    "test_ds = image_data_generator.flow_from_dataframe(dataframe=x_test,\n",
    "                                                x_col='image',\n",
    "                                                y_col='label',\n",
    "                                                target_size=(100, 100),\n",
    "                                                color_mode='rgb',\n",
    "                                                class_mode='categorical',\n",
    "                                                batch_size=batch_size)\n",
    "\n",
    "val_ds = image_data_generator.flow_from_dataframe(dataframe=x_val,\n",
    "                                               x_col='image',\n",
    "                                               y_col='label',\n",
    "                                               target_size=(100, 100),\n",
    "                                               color_mode='rgb',\n",
    "                                               class_mode='categorical',\n",
    "                                               batch_size=batch_size)"
   ]
  },
  {
   "cell_type": "code",
   "execution_count": null,
   "metadata": {},
   "outputs": [],
   "source": [
    "input_shape = (100, 100, 3)\n",
    "checkpoint_path = \"./checkpoints/lab2/100x100/\"\n",
    "purge_checkpoints()\n",
    "\n",
    "model = models.Sequential([\n",
    "    layers.Conv2D(64, (3, 3), activation='relu', input_shape=input_shape),\n",
    "    layers.MaxPool2D(pool_size=(2, 2)),\n",
    "    layers.Conv2D(32, (3, 3), activation='relu'),\n",
    "    layers.MaxPool2D(pool_size=(2, 2)),\n",
    "    layers.Flatten(),\n",
    "    layers.Dense(256, activation='relu'),\n",
    "    layers.Dropout(0.2),\n",
    "    layers.Dense(9, activation='softmax')\n",
    "])\n",
    "\n",
    "# model.summary()"
   ]
  },
  {
   "cell_type": "code",
   "execution_count": null,
   "metadata": {},
   "outputs": [],
   "source": [
    "model.compile(optimizer=\"adam\",\n",
    "              loss='categorical_crossentropy',\n",
    "              metrics=[\"acc\"])\n",
    "\n",
    "history = model.fit(train_ds,\n",
    "                    validation_data=val_ds,\n",
    "                    callbacks=[\n",
    "                        get_cp_callback(checkpoint_path)\n",
    "                        # tf.keras.callbacks.EarlyStopping(\n",
    "                        #     monitor='val_loss',\n",
    "                        #     patience=1,\n",
    "                        #     restore_best_weights=True\n",
    "                        # )\n",
    "                    ],\n",
    "                    epochs=20)\n",
    "\n",
    "plotHistory(history)\n",
    "model.save('./models/lab2/100x100/')\n"
   ]
  },
  {
   "cell_type": "markdown",
   "metadata": {},
   "source": [
    "# Transfer learning (ResNet)"
   ]
  },
  {
   "cell_type": "code",
   "execution_count": null,
   "metadata": {},
   "outputs": [],
   "source": [
    "batch_size = 64\n",
    "\n",
    "image_data_generator = ImageDataGenerator(rescale=1./255,\n",
    "                                          rotation_range=40,\n",
    "                                          width_shift_range=0.2,\n",
    "                                          height_shift_range=0.2,\n",
    "                                          shear_range=0.2,\n",
    "                                          zoom_range=0.2,\n",
    "                                          horizontal_flip=True,\n",
    "                                          fill_mode='nearest')\n",
    "\n",
    "train_ds = image_data_generator.flow_from_dataframe(dataframe=x_train,\n",
    "                                                 x_col='image',\n",
    "                                                 y_col='label',\n",
    "                                                 target_size=(200, 200),\n",
    "                                                 color_mode='rgb',\n",
    "                                                 class_mode='categorical',\n",
    "                                                 batch_size=batch_size)\n",
    "\n",
    "test_ds = image_data_generator.flow_from_dataframe(dataframe=x_test,\n",
    "                                                x_col='image',\n",
    "                                                y_col='label',\n",
    "                                                target_size=(200, 200),\n",
    "                                                color_mode='rgb',\n",
    "                                                class_mode='categorical',\n",
    "                                                batch_size=batch_size)\n",
    "\n",
    "val_ds = image_data_generator.flow_from_dataframe(dataframe=x_val,\n",
    "                                               x_col='image',\n",
    "                                               y_col='label',\n",
    "                                               target_size=(200, 200),\n",
    "                                               color_mode='rgb',\n",
    "                                               class_mode='categorical',\n",
    "                                               batch_size=batch_size)"
   ]
  },
  {
   "cell_type": "code",
   "execution_count": null,
   "metadata": {},
   "outputs": [],
   "source": [
    "input_shape = (200, 200, 3)\n",
    "checkpoint_path = \"./checkpoints/lab2/resn/\"\n",
    "purge_checkpoints()\n",
    "\n",
    "base_model = applications.ResNet50V2(include_top=False,\n",
    "                                      input_shape=input_shape)\n",
    "base_model.trainable = False\n",
    "\n",
    "x = layers.Flatten()(base_model.output)\n",
    "x = layers.Dense(128, activation=\"relu\")(x)\n",
    "output_layer = layers.Dense(9, activation='softmax')(x)\n",
    "\n",
    "model = models.Model(inputs=base_model.inputs,\n",
    "                     outputs=output_layer)\n",
    "\n"
   ]
  },
  {
   "cell_type": "code",
   "execution_count": null,
   "metadata": {},
   "outputs": [],
   "source": [
    "model.compile(optimizer=\"adam\",\n",
    "              loss='categorical_crossentropy',\n",
    "              metrics=[\"acc\"])\n",
    "\n",
    "history = model.fit(train_ds,\n",
    "                    validation_data=val_ds,\n",
    "                    callbacks=[\n",
    "                        get_cp_callback(checkpoint_path),\n",
    "                        tf.keras.callbacks.EarlyStopping(\n",
    "                            monitor='val_loss',\n",
    "                            patience=1,\n",
    "                            restore_best_weights=True\n",
    "                        )\n",
    "                    ],\n",
    "                    epochs=10)\n",
    "\n",
    "plotHistory(history)\n",
    "model.save('./models/lab2/resn/')\n"
   ]
  },
  {
   "cell_type": "markdown",
   "metadata": {},
   "source": [
    "# Transfer learning (MobileNet)"
   ]
  },
  {
   "cell_type": "code",
   "execution_count": null,
   "metadata": {},
   "outputs": [],
   "source": [
    "batch_size = 64\n",
    "\n",
    "image_data_generator = ImageDataGenerator()\n",
    "\n",
    "train_ds = image_data_generator.flow_from_dataframe(dataframe=x_train,\n",
    "                                                    x_col='image',\n",
    "                                                    y_col='label',\n",
    "                                                    target_size=(200, 200),\n",
    "                                                    color_mode='rgb',\n",
    "                                                    class_mode='categorical',\n",
    "                                                    batch_size=batch_size)\n",
    "\n",
    "test_ds = image_data_generator.flow_from_dataframe(dataframe=x_test,\n",
    "                                                   x_col='image',\n",
    "                                                   y_col='label',\n",
    "                                                   target_size=(200, 200),\n",
    "                                                   color_mode='rgb',\n",
    "                                                   class_mode='categorical',\n",
    "                                                   batch_size=batch_size)\n",
    "\n",
    "val_ds = image_data_generator.flow_from_dataframe(dataframe=x_val,\n",
    "                                                  x_col='image',\n",
    "                                                  y_col='label',\n",
    "                                                  target_size=(200, 200),\n",
    "                                                  color_mode='rgb',\n",
    "                                                  class_mode='categorical',\n",
    "                                                  batch_size=batch_size)\n"
   ]
  },
  {
   "cell_type": "code",
   "execution_count": null,
   "metadata": {},
   "outputs": [],
   "source": [
    "input_shape = (200, 200, 3)\n",
    "checkpoint_path = \"./checkpoints/lab2/mobn/\"\n",
    "purge_checkpoints()\n",
    "\n",
    "base_model = applications.MobileNetV2(include_top=False,\n",
    "                                      input_shape=input_shape)\n",
    "base_model.trainable = False\n",
    "\n",
    "x = layers.Flatten()(base_model.output)\n",
    "x = layers.Dense(128, activation=\"relu\")(x)\n",
    "output_layer = layers.Dense(9, activation='softmax')(x)\n",
    "\n",
    "model = models.Model(inputs=base_model.inputs,\n",
    "                     outputs=output_layer)\n"
   ]
  },
  {
   "cell_type": "code",
   "execution_count": null,
   "metadata": {},
   "outputs": [],
   "source": [
    "model.compile(optimizer=\"adam\",\n",
    "              loss='categorical_crossentropy',\n",
    "              metrics=[\"acc\"])\n",
    "\n",
    "history = model.fit(train_ds,\n",
    "                    validation_data=val_ds,\n",
    "                    callbacks=[get_cp_callback(checkpoint_path)],\n",
    "                    epochs=5)\n",
    "\n",
    "plotHistory(history)\n",
    "model.save('./models/lab2/mobn/')"
   ]
  }
 ],
 "metadata": {
  "interpreter": {
   "hash": "36fb388a3df9b6b0152b2dc3041366d6a510fd93d1437e9de76ac36c774f0a35"
  },
  "kernelspec": {
   "display_name": "Python 3.9.7 64-bit ('.venv': venv)",
   "language": "python",
   "name": "python3"
  },
  "language_info": {
   "codemirror_mode": {
    "name": "ipython",
    "version": 3
   },
   "file_extension": ".py",
   "mimetype": "text/x-python",
   "name": "python",
   "nbconvert_exporter": "python",
   "pygments_lexer": "ipython3",
   "version": "3.9.9"
  },
  "orig_nbformat": 4
 },
 "nbformat": 4,
 "nbformat_minor": 2
}
